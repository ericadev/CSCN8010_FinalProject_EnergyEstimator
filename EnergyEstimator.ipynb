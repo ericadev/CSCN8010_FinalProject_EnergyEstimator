{
 "cells": [
  {
   "cell_type": "markdown",
   "id": "57edb674",
   "metadata": {},
   "source": [
    "# CSCN8010 Final Project - Energy Estimator\n",
    "\n",
    "## Group #8\n",
    "* Eris Leksi\n",
    "* Erica Holden\n",
    "* Reham Abuarquob"
   ]
  },
  {
   "cell_type": "code",
   "execution_count": 13,
   "id": "5e6dbdee",
   "metadata": {},
   "outputs": [],
   "source": [
    "import pandas as pd\n",
    "\n",
    "df = pd.read_csv('./data/alpaca_llama3_70b_server.csv')\n",
    "\n",
    "# Drop unnecessary column\n",
    "df = df.drop(columns=['Unnamed: 0', 'Unnamed: 0.1'])\n"
   ]
  },
  {
   "cell_type": "code",
   "execution_count": null,
   "id": "3286aa27",
   "metadata": {},
   "outputs": [],
   "source": [
    "# Use random forest regressor for energy estimation\n",
    "from sklearn.ensemble import RandomForestRegressor\n",
    "from sklearn.model_selection import train_test_split\n",
    "from sklearn.metrics import mean_squared_error, r2_score\n",
    "\n",
    "class EnergyEstimator:\n",
    "    def __init__(self, model=None):\n",
    "        if model is None:\n",
    "            self.model = RandomForestRegressor(n_estimators=100, random_state=42)\n",
    "        else:\n",
    "            self.model = model\n",
    "    \n",
    "    def train(self, X, y):\n",
    "        X_train, X_test, y_train, y_test = train_test_split(X, y, test_size=0.2, random_state=42)\n",
    "        self.model.fit(X_train, y_train)\n",
    "        predictions = self.model.predict(X_test)\n",
    "        \n",
    "        mse = mean_squared_error(y_test, predictions)\n",
    "        r2 = r2_score(y_test, predictions)\n",
    "        \n",
    "        print(f'Mean Squared Error: {mse}')\n",
    "        print(f'R^2 Score: {r2}')"
   ]
  },
  {
   "cell_type": "code",
   "execution_count": 17,
   "id": "e5e8013a",
   "metadata": {},
   "outputs": [
    {
     "name": "stdout",
     "output_type": "stream",
     "text": [
      "Mean Squared Error: 9.618702535403386e-10\n",
      "R^2 Score: 0.9997266721550511\n"
     ]
    }
   ],
   "source": [
    "estimator = EnergyEstimator()\n",
    "X = df.drop(columns=['energy_consumption_llm'])\n",
    "X = pd.get_dummies(X)  # Convert categorical columns to numeric using one-hot encoding\n",
    "y = df['energy_consumption_llm']\n",
    "\n",
    "estimator.train(X, y)"
   ]
  },
  {
   "cell_type": "markdown",
   "id": "1520cb03",
   "metadata": {},
   "source": [
    "## Conclusion\n",
    "\n",
    "Using the Random Forest Regressor we were able to train a model for estimating energy usage with an R^2 of ~0.9997, so we are saving the model to be loaded elsewhere."
   ]
  },
  {
   "cell_type": "code",
   "execution_count": 20,
   "id": "b0f36809",
   "metadata": {},
   "outputs": [
    {
     "data": {
      "text/plain": [
       "['./models/energy_estimator_model.pkl']"
      ]
     },
     "execution_count": 20,
     "metadata": {},
     "output_type": "execute_result"
    }
   ],
   "source": [
    "# Save the trained model\n",
    "import joblib\n",
    "joblib.dump(estimator.model, './models/energy_estimator_model.pkl')"
   ]
  }
 ],
 "metadata": {
  "kernelspec": {
   "display_name": ".venv",
   "language": "python",
   "name": "python3"
  },
  "language_info": {
   "codemirror_mode": {
    "name": "ipython",
    "version": 3
   },
   "file_extension": ".py",
   "mimetype": "text/x-python",
   "name": "python",
   "nbconvert_exporter": "python",
   "pygments_lexer": "ipython3",
   "version": "3.12.9"
  }
 },
 "nbformat": 4,
 "nbformat_minor": 5
}
