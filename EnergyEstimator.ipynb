{
 "cells": [
  {
   "cell_type": "markdown",
   "id": "57edb674",
   "metadata": {},
   "source": [
    "# CSCN8010 Final Project - Energy Estimator\n",
    "\n",
    "## Group #8\n",
    "* Eris Leksi\n",
    "* Erica Holden\n",
    "* Reham Abuarquob"
   ]
  },
  {
   "cell_type": "code",
   "execution_count": 1,
   "id": "5e6dbdee",
   "metadata": {},
   "outputs": [],
   "source": [
    "import pandas as pd\n",
    "import numpy as np\n",
    "from sklearn.feature_extraction.text import TfidfVectorizer\n",
    "from xgboost import XGBRegressor\n",
    "from sklearn.model_selection import train_test_split\n",
    "from sklearn.metrics import mean_squared_error\n",
    "from util.Vectorizer import Vectorizer\n",
    "\n",
    "df = pd.read_csv('./data/alpaca_llama3_70b_server.csv')\n",
    "\n",
    "# Drop unnecessary column\n",
    "df = df.drop(columns=['Unnamed: 0', 'Unnamed: 0.1'])\n",
    "\n",
    "y = df['energy_consumption_llm']\n"
   ]
  },
  {
   "cell_type": "code",
   "execution_count": 3,
   "id": "3286aa27",
   "metadata": {},
   "outputs": [
    {
     "name": "stdout",
     "output_type": "stream",
     "text": [
      "Mean Squared Error: 3.1473048693479308e-06\n",
      "R^2 Score: 0.10565270714028074\n",
      "Accuracy: 0.07281553398058252\n"
     ]
    }
   ],
   "source": [
    "vectorizer = Vectorizer(df['prompt'])\n",
    "vectorizer.model.train(df['prompt'], total_examples=len(df['prompt']), epochs=10)\n",
    "\n",
    "df = vectorizer.update_dataframe_with_prompt_vector(df, 'prompt')\n",
    "X_vec = np.array([vectorizer.sentence_vector(s, vectorizer.model) for s in df['prompt'].to_list()])\n",
    "\n",
    "X_train, X_test, y_train, y_test = train_test_split(X_vec, y, test_size=0.2, random_state=42)\n",
    "model = XGBRegressor(objective='reg:squarederror', n_estimators=100, learning_rate=0.1)\n",
    "model.fit(X_train, y_train)\n",
    "y_pred = model.predict(X_test)\n",
    "mse = mean_squared_error(y_test, y_pred)\n",
    "# Calculate accuracy as the percentage of predictions within 10% of actual values\n",
    "accuracy = (abs(y_test - y_pred) / y_test < 0.1).mean()\n",
    "print(f'Mean Squared Error: {mse}')\n",
    "print(f'R^2 Score: {model.score(X_test, y_test)}')\n",
    "print(f'Accuracy: {accuracy}')\n"
   ]
  },
  {
   "cell_type": "code",
   "execution_count": null,
   "id": "b0f36809",
   "metadata": {},
   "outputs": [],
   "source": [
    "# Save the model and vectorizer for future use\n",
    "import joblib\n",
    "joblib.dump(model, 'xgboost_model.pkl')\n",
    "joblib.dump(vectorizer, 'text_vectorizer.pkl')"
   ]
  }
 ],
 "metadata": {
  "kernelspec": {
   "display_name": ".venv",
   "language": "python",
   "name": "python3"
  },
  "language_info": {
   "codemirror_mode": {
    "name": "ipython",
    "version": 3
   },
   "file_extension": ".py",
   "mimetype": "text/x-python",
   "name": "python",
   "nbconvert_exporter": "python",
   "pygments_lexer": "ipython3",
   "version": "3.12.9"
  }
 },
 "nbformat": 4,
 "nbformat_minor": 5
}
