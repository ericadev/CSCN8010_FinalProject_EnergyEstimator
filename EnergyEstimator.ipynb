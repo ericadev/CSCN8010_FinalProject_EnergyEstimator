{
 "cells": [
  {
   "cell_type": "markdown",
   "id": "57edb674",
   "metadata": {},
   "source": [
    "# CSCN8010 Final Project - Energy Estimator\n",
    "\n",
    "## Group #8\n",
    "* Eris Leksi\n",
    "* Erica Holden\n",
    "* Reham Abuarquob"
   ]
  },
  {
   "cell_type": "code",
   "execution_count": 1,
   "id": "5e6dbdee",
   "metadata": {},
   "outputs": [],
   "source": [
    "import pandas as pd\n",
    "import numpy as np\n",
    "from sklearn.feature_extraction.text import TfidfVectorizer\n",
    "from xgboost import XGBRegressor\n",
    "from sklearn.model_selection import train_test_split\n",
    "from sklearn.metrics import mean_squared_error\n",
    "from util.Vectorizer import Vectorizer\n",
    "\n",
    "df = pd.read_csv('./data/alpaca_llama3_70b_server.csv')\n",
    "\n",
    "# Drop unnecessary column\n",
    "df = df.drop(columns=['Unnamed: 0', 'Unnamed: 0.1'])\n",
    "\n",
    "y = df['energy_consumption_llm']\n"
   ]
  },
  {
   "cell_type": "code",
   "execution_count": 2,
   "id": "3286aa27",
   "metadata": {},
   "outputs": [
    {
     "name": "stdout",
     "output_type": "stream",
     "text": [
      "   index  model_name                           created_at  total_duration  \\\n",
      "0      0  llama3:70b  2024-05-23 09:15:00.187929369+00:00     94879729212   \n",
      "1      0  llama3:70b  2024-05-23 09:15:18.245447446+00:00     14599356392   \n",
      "2      0  llama3:70b  2024-05-23 09:18:31.047288630+00:00    189692748218   \n",
      "3      0  llama3:70b  2024-05-23 09:21:57.558292165+00:00    202650658347   \n",
      "4      0  llama3:70b  2024-05-23 09:23:29.453819226+00:00     88047573776   \n",
      "\n",
      "   load_duration  prompt_token_length  prompt_duration  response_token_length  \\\n",
      "0     8831648220                   18       3094979000                    296   \n",
      "1         317320                   13       2270133000                     46   \n",
      "2         571421                   13       2253547000                    506   \n",
      "3         362015                   13       3620154000                    447   \n",
      "4         421890                   18       2993127000                    306   \n",
      "\n",
      "   response_duration                                             prompt  ...  \\\n",
      "0        82952260000              Give three tips for staying healthy.   ...   \n",
      "1        12328060000                What are the three primary colors?   ...   \n",
      "2       187435541000                Describe the structure of an atom.   ...   \n",
      "3       199028876000                  How can we reduce air pollution?   ...   \n",
      "4        85052873000  Describe a time when you had to make a difficu...  ...   \n",
      "\n",
      "  named_entities  adjectives  adverbs  length_x_complexity  \\\n",
      "0            1.0         1.0      0.0                  0.0   \n",
      "1            1.0         1.0      0.0                  0.0   \n",
      "2            0.0         0.0      0.0                  0.0   \n",
      "3            0.0         0.0      0.0                  0.0   \n",
      "4            0.0         1.0      0.0                  0.0   \n",
      "\n",
      "  questions_about_entities desc_complexity_ratio word_count_squared  \\\n",
      "0                      0.0              0.142857               49.0   \n",
      "1                      1.0              0.142857               49.0   \n",
      "2                      0.0              0.000000               49.0   \n",
      "3                      0.0              0.000000               49.0   \n",
      "4                      0.0              0.083333              144.0   \n",
      "\n",
      "  avg_sentence_length_cubed  lexical_diversity  \\\n",
      "0                     343.0           1.000000   \n",
      "1                     343.0           1.000000   \n",
      "2                     343.0           1.000000   \n",
      "3                     343.0           1.000000   \n",
      "4                    1728.0           0.916667   \n",
      "\n",
      "                                       prompt_vector  \n",
      "0  [0.0, 0.0, 0.0, 0.0, 0.0, 0.0, 0.0, 0.0, 0.0, ...  \n",
      "1  [0.0, 0.0, 0.0, 0.0, 0.0, 0.0, 0.0, 0.0, 0.0, ...  \n",
      "2  [0.0, 0.0, 0.0, 0.0, 0.0, 0.0, 0.0, 0.0, 0.0, ...  \n",
      "3  [0.0, 0.0, 0.0, 0.0, 0.0, 0.0, 0.0, 0.0, 0.0, ...  \n",
      "4  [0.0, 0.0, 0.0, 0.0, 0.0, 0.0, 0.0, 0.0, 0.0, ...  \n",
      "\n",
      "[5 rows x 78 columns]\n",
      "Mean Squared Error: 3.5252471022013394e-06\n",
      "R^2 Score: -0.001744455461203831\n",
      "Accuracy: 0.043689320388349516\n"
     ]
    }
   ],
   "source": [
    "vectorizer = Vectorizer(df['prompt'].tolist())\n",
    "\n",
    "df = vectorizer.update_dataframe_with_prompt_vector(df, 'prompt')\n",
    "X_vec = np.array(df['prompt_vector'].tolist())\n",
    "print(df.head())\n",
    "\n",
    "X_train, X_test, y_train, y_test = train_test_split(X_vec, y, test_size=0.2, random_state=42)\n",
    "model = XGBRegressor(objective='reg:squarederror', n_estimators=100, learning_rate=0.1)\n",
    "model.fit(X_train, y_train)\n",
    "y_pred = model.predict(X_test)\n",
    "mse = mean_squared_error(y_test, y_pred)\n",
    "# Calculate accuracy as the percentage of predictions within 10% of actual values\n",
    "accuracy = (abs(y_test - y_pred) / y_test < 0.1).mean()\n",
    "print(f'Mean Squared Error: {mse}')\n",
    "print(f'R^2 Score: {model.score(X_test, y_test)}')\n",
    "print(f'Accuracy: {accuracy}')\n"
   ]
  },
  {
   "cell_type": "code",
   "execution_count": null,
   "id": "b0f36809",
   "metadata": {},
   "outputs": [],
   "source": [
    "# Save the model and vectorizer for future use\n",
    "import joblib\n",
    "joblib.dump(model, 'xgboost_model.pkl')\n",
    "joblib.dump(vectorizer, 'text_vectorizer.pkl')"
   ]
  }
 ],
 "metadata": {
  "kernelspec": {
   "display_name": ".venv",
   "language": "python",
   "name": "python3"
  },
  "language_info": {
   "codemirror_mode": {
    "name": "ipython",
    "version": 3
   },
   "file_extension": ".py",
   "mimetype": "text/x-python",
   "name": "python",
   "nbconvert_exporter": "python",
   "pygments_lexer": "ipython3",
   "version": "3.12.9"
  }
 },
 "nbformat": 4,
 "nbformat_minor": 5
}
