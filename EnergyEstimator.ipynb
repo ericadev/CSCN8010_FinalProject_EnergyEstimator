{
 "cells": [
  {
   "cell_type": "markdown",
   "id": "57edb674",
   "metadata": {},
   "source": [
    "# CSCN8010 Final Project - Energy Estimator\n",
    "\n",
    "## Group #8\n",
    "* Eris Leksi\n",
    "* Erica Holden\n",
    "* Reham Abuarquob"
   ]
  },
  {
   "cell_type": "code",
   "execution_count": 1,
   "id": "5e6dbdee",
   "metadata": {},
   "outputs": [],
   "source": [
    "import pandas as pd\n",
    "import numpy as np\n",
    "from sklearn.feature_extraction.text import TfidfVectorizer\n",
    "from xgboost import XGBRegressor\n",
    "from sklearn.model_selection import train_test_split\n",
    "from sklearn.metrics import mean_squared_error\n",
    "from util.Vectorizer import Vectorizer\n",
    "\n",
    "df = pd.read_csv('./data/alpaca_llama3_70b_server.csv')\n",
    "\n",
    "# Drop unnecessary column\n",
    "df = df.drop(columns=['Unnamed: 0', 'Unnamed: 0.1'])\n",
    "\n",
    "y = df['energy_consumption_llm_total']\n"
   ]
  },
  {
   "cell_type": "code",
   "execution_count": 2,
   "id": "3286aa27",
   "metadata": {},
   "outputs": [
    {
     "name": "stdout",
     "output_type": "stream",
     "text": [
      "Mean Squared Error: 3.031265295843615e-06\n",
      "R^2 Score: 0.13862684937826575\n",
      "Accuracy: 0.0970873786407767\n"
     ]
    }
   ],
   "source": [
    "vectorizer = Vectorizer(df['prompt'].tolist())\n",
    "\n",
    "df['prompt_vector'] = df['prompt'].apply(lambda x: vectorizer.sentence_vector(x))\n",
    "X_vec = np.vstack(df['prompt_vector'].values)  # shape: (num_samples, vector_size)\n",
    "\n",
    "X_train, X_test, y_train, y_test = train_test_split(X_vec, y, test_size=0.2, random_state=42)\n",
    "model = XGBRegressor(objective='reg:squarederror', n_estimators=100, learning_rate=0.1)\n",
    "model.fit(X_train, y_train)\n",
    "y_pred = model.predict(X_test)\n",
    "mse = mean_squared_error(y_test, y_pred)\n",
    "# Calculate accuracy as the percentage of predictions within 10% of actual values\n",
    "accuracy = (abs(y_test - y_pred) / y_test < 0.1).mean()\n",
    "print(f'Mean Squared Error: {mse}')\n",
    "print(f'R^2 Score: {model.score(X_test, y_test)}')\n",
    "print(f'Accuracy: {accuracy}')\n"
   ]
  },
  {
   "cell_type": "code",
   "execution_count": 3,
   "id": "eb47dad6",
   "metadata": {},
   "outputs": [
    {
     "name": "stderr",
     "output_type": "stream",
     "text": [
      "c:\\Users\\Erica\\projects\\mlframeworks\\CSCN8010_FinalProject_EnergyEstimator\\.venv\\Lib\\site-packages\\tqdm\\auto.py:21: TqdmWarning: IProgress not found. Please update jupyter and ipywidgets. See https://ipywidgets.readthedocs.io/en/stable/user_install.html\n",
      "  from .autonotebook import tqdm as notebook_tqdm\n",
      "c:\\Users\\Erica\\projects\\mlframeworks\\CSCN8010_FinalProject_EnergyEstimator\\.venv\\Lib\\site-packages\\torch\\nn\\modules\\module.py:1762: FutureWarning: `encoder_attention_mask` is deprecated and will be removed in version 4.55.0 for `BertSdpaSelfAttention.forward`.\n",
      "  return forward_call(*args, **kwargs)\n"
     ]
    },
    {
     "name": "stdout",
     "output_type": "stream",
     "text": [
      "Mean Squared Error: 2.2930986353188646e-06\n",
      "R^2 Score: 0.34838643160024074\n",
      "Accuracy: 0.11650485436893204\n"
     ]
    }
   ],
   "source": [
    "from sentence_transformers import SentenceTransformer\n",
    "model = SentenceTransformer('all-MiniLM-L6-v2')\n",
    "prompt_vectors = model.encode(df['prompt'].tolist())\n",
    "\n",
    "X_vec = prompt_vectors  # shape: (num_samples, embedding_dim)\n",
    "y = df['energy_consumption_llm']\n",
    "\n",
    "from sklearn.model_selection import train_test_split\n",
    "from xgboost import XGBRegressor\n",
    "\n",
    "X_train, X_test, y_train, y_test = train_test_split(X_vec, y, test_size=0.2, random_state=42)\n",
    "model = XGBRegressor()\n",
    "model.fit(X_train, y_train)\n",
    "y_pred = model.predict(X_test)\n",
    "mse = mean_squared_error(y_test, y_pred)\n",
    "# Calculate accuracy as the percentage of predictions within 10% of actual values\n",
    "accuracy = (abs(y_test - y_pred) / y_test < 0.1).mean()\n",
    "print(f'Mean Squared Error: {mse}')\n",
    "print(f'R^2 Score: {model.score(X_test, y_test)}')\n",
    "print(f'Accuracy: {accuracy}')"
   ]
  },
  {
   "cell_type": "code",
   "execution_count": null,
   "id": "b0f36809",
   "metadata": {},
   "outputs": [],
   "source": [
    "# Save the model and vectorizer for future use\n",
    "import joblib\n",
    "joblib.dump(model, 'xgboost_model.pkl')\n",
    "joblib.dump(vectorizer, 'text_vectorizer.pkl')"
   ]
  }
 ],
 "metadata": {
  "kernelspec": {
   "display_name": ".venv",
   "language": "python",
   "name": "python3"
  },
  "language_info": {
   "codemirror_mode": {
    "name": "ipython",
    "version": 3
   },
   "file_extension": ".py",
   "mimetype": "text/x-python",
   "name": "python",
   "nbconvert_exporter": "python",
   "pygments_lexer": "ipython3",
   "version": "3.12.9"
  }
 },
 "nbformat": 4,
 "nbformat_minor": 5
}
