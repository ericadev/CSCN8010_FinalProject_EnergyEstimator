{
 "cells": [
  {
   "cell_type": "markdown",
   "id": "57edb674",
   "metadata": {},
   "source": [
    "# CSCN8010 Final Project - Energy Estimator\n",
    "\n",
    "## Group #8\n",
    "* Eris Leksi\n",
    "* Erica Holden\n",
    "* Reham Abuarquob"
   ]
  },
  {
   "cell_type": "code",
   "execution_count": 3,
   "id": "5e6dbdee",
   "metadata": {},
   "outputs": [],
   "source": [
    "import pandas as pd\n",
    "import numpy as np\n",
    "from sklearn.model_selection import train_test_split\n",
    "from sklearn.metrics import mean_squared_error\n",
    "from sklearn.ensemble import RandomForestRegressor\n",
    "\n",
    "df = pd.read_csv('../data/alpaca_llama3_70b_server.csv')\n",
    "\n",
    "# Drop unnecessary column\n",
    "df = df.drop(columns=['Unnamed: 0', 'Unnamed: 0.1'])"
   ]
  },
  {
   "cell_type": "code",
   "execution_count": 4,
   "id": "3286aa27",
   "metadata": {},
   "outputs": [
    {
     "name": "stdout",
     "output_type": "stream",
     "text": [
      "Mean Squared Error: 8.604060410085752e-10\n",
      "R^2 Score: 0.9997555045203818\n",
      "Accuracy: 0.9854368932038835\n"
     ]
    }
   ],
   "source": [
    "y = df['energy_consumption_llm_total']  # Use the energy consumption column for prediction\n",
    "X = df.drop(columns=['energy_consumption_llm_total'])\n",
    "X = pd.get_dummies(X, drop_first=True)  # Convert categorical variables to dummy variables\n",
    "\n",
    "X_train, X_test, y_train, y_test = train_test_split(X, y, test_size=0.2, random_state=42)\n",
    "model = RandomForestRegressor(n_estimators=100, random_state=42)\n",
    "model.fit(X_train, y_train)\n",
    "y_pred = model.predict(X_test)\n",
    "mse = mean_squared_error(y_test, y_pred)\n",
    "# Calculate accuracy as the percentage of predictions within 10% of actual values\n",
    "accuracy = (abs(y_test - y_pred) / y_test < 0.1).mean()\n",
    "print(f'Mean Squared Error: {mse}')\n",
    "print(f'R^2 Score: {model.score(X_test, y_test)}')\n",
    "print(f'Accuracy: {accuracy}')\n"
   ]
  },
  {
   "cell_type": "code",
   "execution_count": 5,
   "id": "b0f36809",
   "metadata": {},
   "outputs": [
    {
     "data": {
      "text/plain": [
       "['../models/energy_estimator_model.pkl']"
      ]
     },
     "execution_count": 5,
     "metadata": {},
     "output_type": "execute_result"
    }
   ],
   "source": [
    "# Save the model and vectorizer for future use\n",
    "import joblib\n",
    "joblib.dump(model, '../models/energy_estimator_model.pkl')"
   ]
  },
  {
   "cell_type": "markdown",
   "id": "4318d958",
   "metadata": {},
   "source": [
    "# To use\n",
    "\n",
    "import pandas as pd\n",
    "import joblib\n",
    "\n",
    "## 1. Load the saved model\n",
    "model = joblib.load('../models/energy_estimator_model.pkl')\n",
    "\n",
    "## 2. Prepare your new prompt as a DataFrame with the same columns as your original X\n",
    "## Example: Suppose your original X had columns ['prompt', 'model_name', ...]\n",
    "new_data = pd.DataFrame([{\n",
    "    'prompt': \"Your new prompt here\",\n",
    "    'model_name': \"llama3:70b\",\n",
    "    # ...add other required columns with appropriate values...\n",
    "}])\n",
    "\n",
    "## 3. Apply the same preprocessing as before\n",
    "## (e.g., one-hot encoding, dropping columns, etc.)\n",
    "## You must ensure the columns match the training data!\n",
    "new_data_encoded = pd.get_dummies(new_data, drop_first=True)\n",
    "\n",
    "## 4. Align columns with training data (add missing columns with 0)\n",
    "for col in model.feature_names_in_:\n",
    "    if col not in new_data_encoded.columns:\n",
    "        new_data_encoded[col] = 0\n",
    "new_data_encoded = new_data_encoded[model.feature_names_in_]\n",
    "\n",
    "## 5. Predict\n",
    "prediction = model.predict(new_data_encoded)\n",
    "print(f'Predicted energy_consumption_llm_total: {prediction[0]}')"
   ]
  }
 ],
 "metadata": {
  "kernelspec": {
   "display_name": ".venv",
   "language": "python",
   "name": "python3"
  },
  "language_info": {
   "codemirror_mode": {
    "name": "ipython",
    "version": 3
   },
   "file_extension": ".py",
   "mimetype": "text/x-python",
   "name": "python",
   "nbconvert_exporter": "python",
   "pygments_lexer": "ipython3",
   "version": "3.12.9"
  }
 },
 "nbformat": 4,
 "nbformat_minor": 5
}
